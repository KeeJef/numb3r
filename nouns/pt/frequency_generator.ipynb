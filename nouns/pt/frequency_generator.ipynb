{
 "cells": [
  {
   "cell_type": "code",
   "execution_count": 5,
   "metadata": {},
   "outputs": [],
   "source": [
    "import time\n",
    "\n",
    "count = 0\n",
    "tmp_list = []\n",
    "with open(\"nounlist_translated.txt\",'r') as f:\n",
    "    for word in f:\n",
    "        word = word.strip()\n",
    "        if ' ' in word:\n",
    "            continue\n",
    "        tmp_list.append(word.lower())\n",
    "        \n",
    "with open(\"nounlist.txt\",'w') as f:\n",
    "    for word in sorted(list(set(tmp_list))):\n",
    "        f.write(word.lower() + '\\n')"
   ]
  },
  {
   "cell_type": "code",
   "execution_count": 7,
   "metadata": {},
   "outputs": [],
   "source": [
    "import pyspark\n",
    "import re\n",
    "from nltk import word_tokenize\n",
    "\n",
    "sc = pyspark.SparkContext('local[*]')\n",
    "\n",
    "noun_set = set()\n",
    "with open(\"nounlist.txt\",'r') as f:\n",
    "    for line in f:\n",
    "        noun_set.add(line.strip().lower())\n",
    "noun_set_bc = sc.broadcast(noun_set)\n",
    "\n",
    "lines = sc.textFile(\"ptwiki-20190201-pages-articles.xml.bz2\")\n",
    "# lines = sc.parallelize(lines.take(20000)) # in case you want to try a small sample\n",
    "\n",
    "content_rdd = lines.filter(lambda line: line and line[0].isalpha())\n",
    "counts = content_rdd.flatMap(lambda line: [word.lower() for word in word_tokenize(line)]) \\\n",
    "            .filter(lambda word: word in noun_set_bc.value) \\\n",
    "            .map(lambda word: (word, 1)) \\\n",
    "            .reduceByKey(lambda a, b: a + b)\n",
    "count_tuples = counts.sortBy(lambda a: -a[1]).collect()\n",
    "\n",
    "words_found = []\n",
    "with open(\"nounlist_frequency.csv\",'w') as f:\n",
    "    for word,count in count_tuples:\n",
    "        f.write(word + ',' + str(count) + '\\n')\n",
    "        words_found.append(word)\n",
    "    \n",
    "    # make sure all the words are in the file even if never found on wikipedia\n",
    "    words_found = set(words_found)\n",
    "    for word in noun_set:\n",
    "        if word not in words_found:\n",
    "            f.write(word + ',0\\n')\n",
    "sc.stop()"
   ]
  }
 ],
 "metadata": {
  "kernelspec": {
   "display_name": "Python 3",
   "language": "python",
   "name": "python3"
  },
  "language_info": {
   "codemirror_mode": {
    "name": "ipython",
    "version": 3
   },
   "file_extension": ".py",
   "mimetype": "text/x-python",
   "name": "python",
   "nbconvert_exporter": "python",
   "pygments_lexer": "ipython3",
   "version": "3.6.8"
  }
 },
 "nbformat": 4,
 "nbformat_minor": 2
}
