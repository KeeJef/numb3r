{
 "cells": [
  {
   "cell_type": "markdown",
   "metadata": {},
   "source": [
    "From a couple of different sources we can create a huge dump of 'concrete nouns':\n",
    "\n",
    "https://www.writing.com/main/view_item/item_id/1757079-Concrete-Nouns-List  \n",
    "http://ogden.basic-english.org/words.html  \n",
    "https://www.manythings.org/vocabulary/lists/c/"
   ]
  },
  {
   "cell_type": "code",
   "execution_count": 2,
   "metadata": {},
   "outputs": [],
   "source": [
    "tmp_list = []\n",
    "with open(\"name_dump.txt\",'r') as f:\n",
    "    for line in f:\n",
    "        for word in word_tokenize(line):\n",
    "            if len(word) > 1 and re.match('^[\\w]+$', word):\n",
    "                tmp_list.append(word.lower())\n",
    "                \n",
    "word_set = set(tmp_list)\n",
    "                \n",
    "for word in tmp_list:\n",
    "    plural = word + 's'\n",
    "    if plural in word_set:\n",
    "        word_set.remove(plural)\n",
    "            \n",
    "with open(\"nouns/en/nounlist.txt\",'w') as f:\n",
    "    for word in sorted(word_set):\n",
    "        f.write(word + '\\n')"
   ]
  },
  {
   "cell_type": "markdown",
   "metadata": {},
   "source": [
    "Count frequency in a dump of wikipedia"
   ]
  },
  {
   "cell_type": "code",
   "execution_count": 7,
   "metadata": {},
   "outputs": [],
   "source": [
    "import pyspark\n",
    "import re\n",
    "from nltk import word_tokenize\n",
    "\n",
    "sc = pyspark.SparkContext('local[*]')\n",
    "\n",
    "noun_set = set()\n",
    "with open(\"nounlist.txt\",'r') as f:\n",
    "    for line in f:\n",
    "        noun_set.add(line.strip().lower())\n",
    "noun_set_bc = sc.broadcast(noun_set)\n",
    "\n",
    "lines = sc.textFile(\"enwiki-20190201-pages-articles.xml.bz2\")\n",
    "# lines = sc.parallelize(lines.take(200000)) # in case you want to try a small sample\n",
    "\n",
    "content_rdd = lines.filter(lambda line: line and line[0].isalpha())\n",
    "counts = content_rdd.flatMap(lambda line: [word.lower() for word in word_tokenize(line)]) \\\n",
    "            .filter(lambda word: word in noun_set_bc.value) \\\n",
    "            .map(lambda word: (word, 1)) \\\n",
    "            .reduceByKey(lambda a, b: a + b)\n",
    "count_tuples = counts.sortBy(lambda a: -a[1]).collect()\n",
    "\n",
    "words_found = []\n",
    "with open(\"nounlist_frequency.csv\",'w') as f:\n",
    "    for word,count in count_tuples:\n",
    "        f.write(word + ',' + str(count) + '\\n')\n",
    "        words_found.append(word)\n",
    "    \n",
    "    # make sure all the words are in the file even if never found on wikipedia\n",
    "    words_found = set(words_found)\n",
    "    for word in noun_set:\n",
    "        if word not in words_found:\n",
    "            f.write(word + ',0\\n')\n",
    "sc.stop()"
   ]
  },
  {
   "cell_type": "markdown",
   "metadata": {},
   "source": [
    "finally we do some cleaning on the frequency list. Stop words etc should rise to the top and be easy to remove. similiarly, typos should be right at the bottom"
   ]
  }
 ],
 "metadata": {
  "celltoolbar": "Raw Cell Format",
  "kernelspec": {
   "display_name": "Python 3",
   "language": "python",
   "name": "python3"
  },
  "language_info": {
   "codemirror_mode": {
    "name": "ipython",
    "version": 3
   },
   "file_extension": ".py",
   "mimetype": "text/x-python",
   "name": "python",
   "nbconvert_exporter": "python",
   "pygments_lexer": "ipython3",
   "version": "3.6.8"
  }
 },
 "nbformat": 4,
 "nbformat_minor": 2
}
