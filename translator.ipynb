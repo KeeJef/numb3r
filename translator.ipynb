{
 "cells": [
  {
   "cell_type": "code",
   "execution_count": 1,
   "metadata": {},
   "outputs": [],
   "source": [
    "LANGUAGE = 'EN' # options are 'EN' or 'PT'\n",
    "PI = '3141592653589793238462643383279502884197169399375105820974944592307816406286208998628034825342117067982148086513282306647093844609550582231725359408128481117450284102701938521105559644622948954930381964428810975665933446128475648233786783165271201909145648566923460348610454326648213393607260249141273724587006606315588174881520920962829254091715364367892590360011330530548820466521384146951941511609433057270365759591953092186117381932611793105118548074462379962749567351885752724891227938183011949129833673362440656643086021394946395224737190702179860943702770539217176293176752384674818467669405132000568127145263560827785771342757789609173637178721468440901224953430146549585371050792279689258923542019956112129021960864034418159813629774771309960518707211349999998372978049951059731732816096318595024459455346908302642522308253344685035261931188171010003137838752886587533208381420617177669147303598253490428755468731159562863882353787593751957781857780532171226806613001927876611195909216420198'"
   ]
  },
  {
   "cell_type": "code",
   "execution_count": 2,
   "metadata": {},
   "outputs": [],
   "source": [
    "import numpy as np\n",
    "import collections\n",
    "\n",
    "def convert_word_to_number(word):\n",
    "    # max of two letters per number for now\n",
    "    numbers = []\n",
    "    skip_one = False \n",
    "    pos = 0\n",
    "    for first_letter, second_letter in zip(word[:-1], word[1:]):\n",
    "        pos += 1\n",
    "        if skip_one:\n",
    "            skip_one = False\n",
    "            continue\n",
    "        two_letters = first_letter+second_letter\n",
    "        if two_letters in letters_to_number.keys(): # two letters takes precedent over 1 letter\n",
    "            numbers.append(letters_to_number[two_letters])\n",
    "            skip_one = True # if we find a two letter match, skip next letter so that it does not fit anything else\n",
    "        else:\n",
    "            if first_letter in letters_to_number.keys():\n",
    "                numbers.append(letters_to_number[first_letter])\n",
    "            if pos == len(word) - 1 and second_letter in letters_to_number.keys():\n",
    "                numbers.append(letters_to_number[second_letter])\n",
    "        \n",
    "    return ''.join(numbers)\n",
    "\n",
    "def solution_summary(number, solution, show_solution=False):\n",
    "    if show_solution:\n",
    "        print('Number: %s' % number)\n",
    "        print('Solution: %s' % ', '.join([ '%s (%s)' % (word, word_numbers[word]) for word in solution]))\n",
    "        print()\n",
    "    print('Number of digits: %d' % len(number))\n",
    "    print('Number of words: %d' % len(solution))\n",
    "    print('Average word length: %.2f' % np.mean([len(word_numbers[word]) for word in solution]))\n",
    "    print('Number of repeated words: %.2f' % (len(solution) - len(np.unique(solution))))\n",
    "    counts = collections.Counter(solution)\n",
    "    print('Repeated words used: %s' % ', '.join([ '%s (x%d)' % (word,count) for word,count in counts.items() if count > 1]))"
   ]
  },
  {
   "cell_type": "code",
   "execution_count": 3,
   "metadata": {},
   "outputs": [],
   "source": [
    "word_scores = {}\n",
    "\n",
    "# open list of words and create dict so we can navigate faster\n",
    "if LANGUAGE == 'EN':\n",
    "    noun_frequency_file = \"nouns/en/nounlist_frequency.csv\"\n",
    "\n",
    "    # from Derren Brown's - Trick of the Mind\n",
    "    letters_to_number = {\n",
    "        's': '0',\n",
    "        'z': '0',\n",
    "        'l': '1',\n",
    "        'n': '2',\n",
    "        'm': '3',\n",
    "        'r': '4',\n",
    "        'f': '5',\n",
    "        'v': '5',\n",
    "        'b': '6',\n",
    "        'p': '6',\n",
    "        't': '7',\n",
    "        'ch': '8',\n",
    "        'sh': '8',\n",
    "        'j': '8',\n",
    "        'g': '9'\n",
    "    }\n",
    "elif LANGUAGE == 'PT':\n",
    "    noun_frequency_file = \"nouns/pt/nounlist_frequency.csv\"\n",
    "    \n",
    "    letters_to_number = {\n",
    "        's': '0',\n",
    "        'z': '0',\n",
    "        'l': '1',\n",
    "        'd': '2',\n",
    "        'r': '3',\n",
    "        'c': '4',\n",
    "        'q': '4',\n",
    "        'n': '5',\n",
    "        'b': '6',\n",
    "        'p': '6',\n",
    "        't': '7',\n",
    "        'ch': '8',\n",
    "        'x': '8',\n",
    "        'v': '9'\n",
    "    }\n",
    "\n",
    "with open(noun_frequency_file,'r') as f:\n",
    "    for line in f:\n",
    "        word, score = line.split(',')[:2]\n",
    "        word_scores[word] = int(score)\n",
    "\n",
    "word_numbers = {word: convert_word_to_number(word) for word in word_scores.keys()}\n",
    "word_numbers = {word: numbers for word, numbers in word_numbers.items() if numbers} # remove words that can't be converted to numbers"
   ]
  },
  {
   "cell_type": "markdown",
   "metadata": {},
   "source": [
    "# Dumb solution\n",
    "Just tries to fit any word from left to right."
   ]
  },
  {
   "cell_type": "code",
   "execution_count": 4,
   "metadata": {},
   "outputs": [],
   "source": [
    "# pick first and go!\n",
    "def dumb_get_first_solution(big_string, current_list=[]):\n",
    "    if len(big_string) == 0:\n",
    "        return current_list\n",
    "    \n",
    "    for word, number_string in word_numbers.items():\n",
    "        if big_string.startswith(number_string):\n",
    "            return dumb_get_first_solution(big_string[len(number_string):], current_list + [word])"
   ]
  },
  {
   "cell_type": "markdown",
   "metadata": {},
   "source": [
    "# Basic solution\n",
    "Tries to fit best possible words one at a time from left to right."
   ]
  },
  {
   "cell_type": "code",
   "execution_count": 5,
   "metadata": {},
   "outputs": [],
   "source": [
    "# computes score of word taken into account words already picked\n",
    "WEIGHT_OF_SIZE = 20\n",
    "WEIGHT_OF_POPULARITY = 5\n",
    "WEIGHT_OF_PENALTY = 100\n",
    "def compute_word_score(word, already_picked):\n",
    "    elements = {\n",
    "        'size': {\n",
    "            'value': 1+len(word_numbers[word]),\n",
    "            'weight': WEIGHT_OF_SIZE\n",
    "        },\n",
    "        'popularity': {\n",
    "            'value': np.log(word_scores[word]),\n",
    "            'weight': WEIGHT_OF_POPULARITY\n",
    "        },\n",
    "        'alreadypicked_penalty': {\n",
    "            'value': 1 if word in already_picked else 10,\n",
    "            'weight': WEIGHT_OF_PENALTY \n",
    "        }\n",
    "    }\n",
    "    numerator = [element_values['weight']*np.log(element_values['value']) for element_name, element_values in elements.items()]\n",
    "    denominator = [element_values['weight'] for element_name, element_values in elements.items()]\n",
    "    \n",
    "    return np.exp(np.sum(numerator)/np.sum(denominator))\n",
    "\n",
    "# sequential iterative solution - find biggest/popular and continue\n",
    "def recursive_basic_solution(big_string, current_list=[]):\n",
    "    if len(big_string) == 0:\n",
    "        return current_list\n",
    "    \n",
    "    max_score = 0\n",
    "    best_word = ''\n",
    "    for word, number_string in word_numbers.items():\n",
    "        if big_string.startswith(number_string):\n",
    "            score = compute_word_score(word, current_list)\n",
    "            if score >= max_score:\n",
    "                max_score = score\n",
    "                best_word = word\n",
    "                \n",
    "    return recursive_basic_solution(big_string[len(word_numbers[best_word]):], current_list + [best_word])"
   ]
  },
  {
   "cell_type": "markdown",
   "metadata": {},
   "source": [
    "# Full exhaustive search\n",
    "This function looks up all the combinations of words that fit a number. It first converts words into blocks of numbers that it then tries to fit. This makes it so that two words that convert into the same number do not feature more than once in the solution. Once we have the solution as a sequence of blocks we then convert them back into words taking into account that if the same blocks are present more than once, they should as much as possible be converted to separate words to avoid repetition."
   ]
  },
  {
   "cell_type": "code",
   "execution_count": 6,
   "metadata": {},
   "outputs": [],
   "source": [
    "# turns word -> number into number -> words\n",
    "building_blocks = {}\n",
    "for word, number_string in word_numbers.items():\n",
    "    if number_string in building_blocks:\n",
    "        building_blocks[number_string].append(word)\n",
    "    else:\n",
    "        building_blocks[number_string] = [word]\n",
    "\n",
    "# test all combinations (uses number blocks to lower search space)\n",
    "def exaustive_recursive_solution(current_path, remaining_string, final_paths):\n",
    "    if len(remaining_string) == 0:\n",
    "        final_paths.append(current_path)\n",
    "    else:\n",
    "        for number_string in building_blocks.keys():\n",
    "            if remaining_string.startswith(number_string):\n",
    "                final_paths = exaustive_recursive_solution(current_path + [number_string], remaining_string[len(number_string):], final_paths)                \n",
    "    return final_paths\n",
    "\n",
    "# turns list of blocks into best words so they don't repeat and are the most popular\n",
    "def convert_block_solution_to_best_word_solution(solution):\n",
    "    constructed_solution = []\n",
    "    for number_string in solution:\n",
    "        possible_words = building_blocks[number_string]\n",
    "        possible_words_sorted = sorted(possible_words, key=lambda x: (constructed_solution.count(x), -word_scores[x]))\n",
    "        constructed_solution.append(possible_words_sorted[0])            \n",
    "    return constructed_solution\n",
    "\n",
    "# turns list of words into score (penalizes repeated words)\n",
    "def compute_solution_score(words):\n",
    "    denominator = []\n",
    "    numerator = []\n",
    "    for word in words:\n",
    "        numerator.append(WEIGHT_OF_SIZE*np.log(len(word_numbers[word])+1))\n",
    "        denominator.append(WEIGHT_OF_SIZE)\n",
    "        \n",
    "        denominator.append(WEIGHT_OF_POPULARITY*np.log(np.log(word_scores[word])))\n",
    "        numerator.append(WEIGHT_OF_POPULARITY)\n",
    "        \n",
    "        numerator.append(WEIGHT_OF_PENALTY*np.log(1 if word in words else 10))\n",
    "        denominator.append(WEIGHT_OF_PENALTY)\n",
    "\n",
    "    return np.exp(np.sum(numerator)/np.sum(denominator))\n",
    "\n",
    "def full_exaustive_solution(number_string):\n",
    "    solutions = exaustive_recursive_solution([], number_string, [])\n",
    "    \n",
    "    constructed_solutions = []\n",
    "    for solution in solutions:\n",
    "        constructed_solutions.append(convert_block_solution_to_best_word_solution(solution))\n",
    "        \n",
    "    ordered_solutions = sorted(constructed_solutions, key=lambda x: -compute_solution_score(x))\n",
    "    return ordered_solutions[0]"
   ]
  },
  {
   "cell_type": "markdown",
   "metadata": {},
   "source": [
    "## Check when it becomes too much for this to handle it"
   ]
  },
  {
   "cell_type": "code",
   "execution_count": 7,
   "metadata": {},
   "outputs": [
    {
     "data": {
      "text/plain": [
       "array([<matplotlib.axes._subplots.AxesSubplot object at 0x7f9b41d40048>,\n",
       "       <matplotlib.axes._subplots.AxesSubplot object at 0x7f9b41d054e0>],\n",
       "      dtype=object)"
      ]
     },
     "execution_count": 7,
     "metadata": {},
     "output_type": "execute_result"
    },
    {
     "data": {
      "image/png": "[encoded data removed]",
      "text/plain": [
       "<Figure size 1080x720 with 2 Axes>"
      ]
     },
     "metadata": {
      "needs_background": "light"
     },
     "output_type": "display_data"
    }
   ],
   "source": [
    "%matplotlib inline\n",
    "import timeit\n",
    "x = range(5,21)\n",
    "y_len = []\n",
    "y_time = []\n",
    "for size in x:\n",
    "    start = timeit.default_timer()\n",
    "    PI_SAMPLE = PI[:size]\n",
    "    solutions = exaustive_recursive_solution([], PI_SAMPLE, [])\n",
    "    y_len.append(len(solutions))\n",
    "    stop = timeit.default_timer()\n",
    "    y_time.append(stop - start)\n",
    "\n",
    "import pandas as pd\n",
    "df = pd.DataFrame({'size of number': x, 'number of solutions': y_len, 'search time': y_time})\n",
    "df.plot(x='size of number', subplots =True, figsize=(15,10))"
   ]
  },
  {
   "cell_type": "markdown",
   "metadata": {},
   "source": [
    "# Divide & Conquer\n",
    "Since the exhaustive search quickly struggles with large numbers we have to find a way to break big numbers into smaller/computable ones."
   ]
  },
  {
   "cell_type": "code",
   "execution_count": 8,
   "metadata": {},
   "outputs": [],
   "source": [
    "MIN_NUMBER_SIZE = 15\n",
    "PADDING = 5\n",
    "\n",
    "# returns best possible word that fits in number\n",
    "def find_best_word(number):\n",
    "    max_score = 0\n",
    "    best_word = ''\n",
    "    for i in range(len(number)):\n",
    "        subnumber = number[i:]\n",
    "        for word, number_string in word_numbers.items():\n",
    "            if subnumber.startswith(number_string):\n",
    "                score = compute_word_score(word,[])\n",
    "                if score >= max_score:\n",
    "                    max_score = score\n",
    "                    best_word = word\n",
    "    return best_word\n",
    "\n",
    "# Divides number if too big and gets best solution for each splitted number\n",
    "def split_and_solve(number):\n",
    "    if len(number) > MIN_NUMBER_SIZE:    \n",
    "        left, middle = number[:MIN_NUMBER_SIZE-5], number[MIN_NUMBER_SIZE-5:MIN_NUMBER_SIZE+5]\n",
    "        best_word = find_best_word(middle)\n",
    "        best_digits = word_numbers[best_word]\n",
    "\n",
    "        middle_left, middle_right = middle.split(best_digits, 1)    \n",
    "        left = left + middle_left\n",
    "        rest = number[len(left)+len(best_digits):]\n",
    "\n",
    "        best_word_solution = full_exaustive_solution(left)\n",
    "        best_block_solution = [word_numbers[word] for word in best_word_solution]\n",
    "        \n",
    "        return best_block_solution + [best_digits] + split_and_solve(rest)        \n",
    "    else:\n",
    "        best_word_solution = full_exaustive_solution(number)\n",
    "        best_block_solution = [word_numbers[word] for word in best_word_solution]\n",
    "        return best_block_solution\n",
    "\n",
    "# calls split_and_solve and converts solution into words\n",
    "def divide_and_conquer_solution(number):\n",
    "    blocks = split_and_solve(number)\n",
    "    return convert_block_solution_to_best_word_solution(blocks)"
   ]
  },
  {
   "cell_type": "markdown",
   "metadata": {},
   "source": [
    "# Putting it to the test"
   ]
  },
  {
   "cell_type": "markdown",
   "metadata": {},
   "source": [
    "## Starting with a small number (20 digits)"
   ]
  },
  {
   "cell_type": "code",
   "execution_count": 9,
   "metadata": {},
   "outputs": [],
   "source": [
    "TEST_NUMBER = PI[:20]"
   ]
  },
  {
   "cell_type": "code",
   "execution_count": 10,
   "metadata": {},
   "outputs": [
    {
     "name": "stdout",
     "output_type": "stream",
     "text": [
      "Number of digits: 20\n",
      "Number of words: 20\n",
      "Average word length: 1.00\n",
      "Number of repeated words: 11.00\n",
      "Repeated words used: home (x4), lead (x2), war (x2), face (x3), high (x3), end (x2), coach (x2)\n",
      "CPU times: user 0 ns, sys: 0 ns, total: 0 ns\n",
      "Wall time: 1.9 ms\n"
     ]
    }
   ],
   "source": [
    "%%time\n",
    "solution = dumb_get_first_solution(TEST_NUMBER)\n",
    "solution_summary(TEST_NUMBER, solution)"
   ]
  },
  {
   "cell_type": "code",
   "execution_count": 11,
   "metadata": {},
   "outputs": [
    {
     "name": "stdout",
     "output_type": "stream",
     "text": [
      "Number of digits: 20\n",
      "Number of words: 10\n",
      "Average word length: 2.00\n",
      "Number of repeated words: 0.00\n",
      "Repeated words used: \n",
      "CPU times: user 20 ms, sys: 0 ns, total: 20 ms\n",
      "Wall time: 16.7 ms\n"
     ]
    }
   ],
   "source": [
    "%%time\n",
    "solution = recursive_basic_solution(TEST_NUMBER)\n",
    "solution_summary(TEST_NUMBER, solution)"
   ]
  },
  {
   "cell_type": "code",
   "execution_count": 12,
   "metadata": {},
   "outputs": [
    {
     "name": "stdout",
     "output_type": "stream",
     "text": [
      "Number of digits: 20\n",
      "Number of words: 10\n",
      "Average word length: 2.00\n",
      "Number of repeated words: 0.00\n",
      "Repeated words used: \n",
      "CPU times: user 9.47 s, sys: 20 ms, total: 9.49 s\n",
      "Wall time: 9.49 s\n"
     ]
    }
   ],
   "source": [
    "%%time\n",
    "solution = full_exaustive_solution(TEST_NUMBER)\n",
    "solution_summary(TEST_NUMBER, solution)"
   ]
  },
  {
   "cell_type": "code",
   "execution_count": 13,
   "metadata": {},
   "outputs": [
    {
     "name": "stdout",
     "output_type": "stream",
     "text": [
      "Number of digits: 20\n",
      "Number of words: 10\n",
      "Average word length: 2.00\n",
      "Number of repeated words: 0.00\n",
      "Repeated words used: \n",
      "CPU times: user 760 ms, sys: 0 ns, total: 760 ms\n",
      "Wall time: 759 ms\n"
     ]
    }
   ],
   "source": [
    "%%time\n",
    "solution = divide_and_conquer_solution(TEST_NUMBER)\n",
    "solution_summary(TEST_NUMBER, solution)"
   ]
  },
  {
   "cell_type": "markdown",
   "metadata": {},
   "source": [
    "## Now 60 digits!"
   ]
  },
  {
   "cell_type": "code",
   "execution_count": 14,
   "metadata": {},
   "outputs": [],
   "source": [
    "TEST_NUMBER = PI[:60]"
   ]
  },
  {
   "cell_type": "code",
   "execution_count": 15,
   "metadata": {},
   "outputs": [
    {
     "name": "stdout",
     "output_type": "stream",
     "text": [
      "Number of digits: 60\n",
      "Number of words: 57\n",
      "Average word length: 1.05\n",
      "Number of repeated words: 44.00\n",
      "Repeated words used: home (x9), lead (x3), war (x6), face (x5), high (x10), end (x5), book (x3), coach (x5), city (x5), house (x3)\n",
      "CPU times: user 0 ns, sys: 10 ms, total: 10 ms\n",
      "Wall time: 2.27 ms\n"
     ]
    }
   ],
   "source": [
    "%%time\n",
    "solution = dumb_get_first_solution(TEST_NUMBER)\n",
    "solution_summary(TEST_NUMBER, solution)"
   ]
  },
  {
   "cell_type": "code",
   "execution_count": 16,
   "metadata": {},
   "outputs": [
    {
     "name": "stdout",
     "output_type": "stream",
     "text": [
      "Number of digits: 60\n",
      "Number of words: 27\n",
      "Average word length: 2.22\n",
      "Number of repeated words: 0.00\n",
      "Repeated words used: \n",
      "CPU times: user 50 ms, sys: 0 ns, total: 50 ms\n",
      "Wall time: 42 ms\n"
     ]
    }
   ],
   "source": [
    "%%time\n",
    "solution = recursive_basic_solution(TEST_NUMBER)\n",
    "solution_summary(TEST_NUMBER, solution)"
   ]
  },
  {
   "cell_type": "markdown",
   "metadata": {},
   "source": [
    "**Exhaustive would not even finish in this case**"
   ]
  },
  {
   "cell_type": "code",
   "execution_count": 17,
   "metadata": {},
   "outputs": [
    {
     "name": "stdout",
     "output_type": "stream",
     "text": [
      "Number of digits: 60\n",
      "Number of words: 26\n",
      "Average word length: 2.31\n",
      "Number of repeated words: 1.00\n",
      "Repeated words used: mocha (x2)\n",
      "CPU times: user 1.11 s, sys: 0 ns, total: 1.11 s\n",
      "Wall time: 1.1 s\n"
     ]
    }
   ],
   "source": [
    "%%time\n",
    "solution = divide_and_conquer_solution(TEST_NUMBER)\n",
    "solution_summary(TEST_NUMBER, solution)"
   ]
  },
  {
   "cell_type": "markdown",
   "metadata": {},
   "source": [
    "## Let's take it to the next level!"
   ]
  },
  {
   "cell_type": "code",
   "execution_count": 18,
   "metadata": {},
   "outputs": [],
   "source": [
    "TEST_NUMBER = PI"
   ]
  },
  {
   "cell_type": "code",
   "execution_count": 19,
   "metadata": {},
   "outputs": [
    {
     "name": "stdout",
     "output_type": "stream",
     "text": [
      "Number of digits: 1000\n",
      "Number of words: 461\n",
      "Average word length: 2.17\n",
      "Number of repeated words: 56.00\n",
      "Repeated words used: gun (x4), movie (x4), mocha (x4), waves (x2), gym (x5), fish (x4), coach (x3), egg (x5), high (x12), music (x2), office (x3), vacuum (x7), fog (x8), museum (x2), fob (x5), shift (x2)\n",
      "CPU times: user 740 ms, sys: 10 ms, total: 750 ms\n",
      "Wall time: 750 ms\n"
     ]
    }
   ],
   "source": [
    "%%time\n",
    "solution = recursive_basic_solution(TEST_NUMBER)\n",
    "solution_summary(TEST_NUMBER, solution)"
   ]
  },
  {
   "cell_type": "code",
   "execution_count": 20,
   "metadata": {},
   "outputs": [
    {
     "name": "stdout",
     "output_type": "stream",
     "text": [
      "Number of digits: 1000\n",
      "Number of words: 434\n",
      "Average word length: 2.30\n",
      "Number of repeated words: 110.00\n",
      "Repeated words used: gun (x3), paved (x4), movie (x6), judge (x3), thigh (x3), mocha (x9), carbon (x3), gauva (x9), magic (x2), gym (x3), tv (x5), fish (x5), ogre (x2), wagon (x2), egg (x3), ship (x2), niche (x5), vacuum (x3), toga (x2), squash (x2), gem (x2), suv (x4), omelet (x3), knife (x2), sash (x2), scented (x2), wigwam (x2), chef (x5), fog (x3), leg (x4), fob (x4), cinema (x2), log (x3), squeegee (x3), cabbage (x2), hammock (x5), puma (x2), gown (x2), sego (x3), foam (x2), sofa (x3), leash (x6), bullet (x2), hedgehog (x3), shift (x2), inn (x2), metal (x2), agogo (x2), fig (x2), smock (x2), match (x2)\n",
      "CPU times: user 47.1 s, sys: 0 ns, total: 47.1 s\n",
      "Wall time: 47 s\n"
     ]
    }
   ],
   "source": [
    "%%time\n",
    "solution = divide_and_conquer_solution(TEST_NUMBER)\n",
    "solution_summary(TEST_NUMBER, solution)"
   ]
  },
  {
   "cell_type": "code",
   "execution_count": null,
   "metadata": {},
   "outputs": [],
   "source": []
  }
 ],
 "metadata": {
  "kernelspec": {
   "display_name": "Python 3",
   "language": "python",
   "name": "python3"
  },
  "language_info": {
   "codemirror_mode": {
    "name": "ipython",
    "version": 3
   },
   "file_extension": ".py",
   "mimetype": "text/x-python",
   "name": "python",
   "nbconvert_exporter": "python",
   "pygments_lexer": "ipython3",
   "version": "3.6.8"
  }
 },
 "nbformat": 4,
 "nbformat_minor": 2
}
